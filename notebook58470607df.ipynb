{
 "cells": [
  {
   "cell_type": "code",
   "execution_count": 1,
   "metadata": {
    "_cell_guid": "b1076dfc-b9ad-4769-8c92-a6c4dae69d19",
    "_uuid": "8f2839f25d086af736a60e9eeb907d3b93b6e0e5",
    "execution": {
     "iopub.execute_input": "2021-04-05T11:30:52.957861Z",
     "iopub.status.busy": "2021-04-05T11:30:52.957004Z",
     "iopub.status.idle": "2021-04-05T11:31:22.233498Z",
     "shell.execute_reply": "2021-04-05T11:31:22.232837Z"
    },
    "papermill": {
     "duration": 29.304749,
     "end_time": "2021-04-05T11:31:22.233767",
     "exception": false,
     "start_time": "2021-04-05T11:30:52.929018",
     "status": "completed"
    },
    "tags": []
   },
   "outputs": [
    {
     "name": "stdout",
     "output_type": "stream",
     "text": [
      "Requirement already satisfied: altair in /opt/conda/lib/python3.7/site-packages (4.1.0)\r\n",
      "Requirement already satisfied: jsonschema in /opt/conda/lib/python3.7/site-packages (from altair) (3.2.0)\r\n",
      "Requirement already satisfied: pandas>=0.18 in /opt/conda/lib/python3.7/site-packages (from altair) (1.2.0)\r\n",
      "Requirement already satisfied: numpy in /opt/conda/lib/python3.7/site-packages (from altair) (1.19.5)\r\n",
      "Requirement already satisfied: jinja2 in /opt/conda/lib/python3.7/site-packages (from altair) (2.11.2)\r\n",
      "Requirement already satisfied: entrypoints in /opt/conda/lib/python3.7/site-packages (from altair) (0.3)\r\n",
      "Requirement already satisfied: toolz in /opt/conda/lib/python3.7/site-packages (from altair) (0.11.1)\r\n",
      "Requirement already satisfied: python-dateutil>=2.7.3 in /opt/conda/lib/python3.7/site-packages (from pandas>=0.18->altair) (2.8.1)\r\n",
      "Requirement already satisfied: pytz>=2017.3 in /opt/conda/lib/python3.7/site-packages (from pandas>=0.18->altair) (2020.5)\r\n",
      "Requirement already satisfied: six>=1.5 in /opt/conda/lib/python3.7/site-packages (from python-dateutil>=2.7.3->pandas>=0.18->altair) (1.15.0)\r\n",
      "Requirement already satisfied: MarkupSafe>=0.23 in /opt/conda/lib/python3.7/site-packages (from jinja2->altair) (1.1.1)\r\n",
      "Requirement already satisfied: pyrsistent>=0.14.0 in /opt/conda/lib/python3.7/site-packages (from jsonschema->altair) (0.17.3)\r\n",
      "Requirement already satisfied: setuptools in /opt/conda/lib/python3.7/site-packages (from jsonschema->altair) (49.6.0.post20201009)\r\n",
      "Requirement already satisfied: importlib-metadata in /opt/conda/lib/python3.7/site-packages (from jsonschema->altair) (3.3.0)\r\n",
      "Requirement already satisfied: attrs>=17.4.0 in /opt/conda/lib/python3.7/site-packages (from jsonschema->altair) (20.3.0)\r\n",
      "Requirement already satisfied: zipp>=0.5 in /opt/conda/lib/python3.7/site-packages (from importlib-metadata->jsonschema->altair) (3.4.0)\r\n",
      "Requirement already satisfied: typing-extensions>=3.6.4 in /opt/conda/lib/python3.7/site-packages (from importlib-metadata->jsonschema->altair) (3.7.4.3)\r\n",
      "/kaggle/input/districtwise-crimes-committed-against-women-2015/District-wise_Crimes_committed_against_Women_2015_1.csv\n",
      "/kaggle/input/crime-against-women-20012014-india/crimes_against_women_2001-2014.csv\n"
     ]
    }
   ],
   "source": [
    "# This Python 3 environment comes with many helpful analytics libraries installed\n",
    "# It is defined by the kaggle/python Docker image: https://github.com/kaggle/docker-python\n",
    "# For example, here's several helpful packages to load\n",
    "\n",
    "import numpy as np # linear algebra\n",
    "import pandas as pd # data processing, CSV file I/O (e.g. pd.read_csv)\n",
    "!pip install altair \n",
    "import altair as alt\n",
    "from scipy.stats import ttest_ind\n",
    "# Input data files are available in the read-only \"../input/\" directory\n",
    "# For example, running this (by clicking run or pressing Shift+Enter) will list all files under the input directory\n",
    "\n",
    "import os\n",
    "for dirname, _, filenames in os.walk('/kaggle/input'):\n",
    "    for filename in filenames:\n",
    "        print(os.path.join(dirname, filename))\n",
    "\n",
    "# You can write up to 20GB to the current directory (/kaggle/working/) that gets preserved as output when you create a version using \"Save & Run All\" \n",
    "# You can also write temporary files to /kaggle/temp/, but they won't be saved outside of the current session"
   ]
  },
  {
   "cell_type": "markdown",
   "metadata": {
    "papermill": {
     "duration": 0.018367,
     "end_time": "2021-04-05T11:31:22.271961",
     "exception": false,
     "start_time": "2021-04-05T11:31:22.253594",
     "status": "completed"
    },
    "tags": []
   },
   "source": [
    "## Reading above file path into a dataframe"
   ]
  },
  {
   "cell_type": "code",
   "execution_count": 2,
   "metadata": {
    "execution": {
     "iopub.execute_input": "2021-04-05T11:31:22.314832Z",
     "iopub.status.busy": "2021-04-05T11:31:22.314107Z",
     "iopub.status.idle": "2021-04-05T11:31:22.368985Z",
     "shell.execute_reply": "2021-04-05T11:31:22.368305Z"
    },
    "papermill": {
     "duration": 0.078421,
     "end_time": "2021-04-05T11:31:22.369143",
     "exception": false,
     "start_time": "2021-04-05T11:31:22.290722",
     "status": "completed"
    },
    "tags": []
   },
   "outputs": [],
   "source": [
    "df = pd.read_csv('/kaggle/input/crime-against-women-20012014-india/crimes_against_women_2001-2014.csv')\n",
    "df1 = pd.read_csv('/kaggle/input/districtwise-crimes-committed-against-women-2015/District-wise_Crimes_committed_against_Women_2015_1.csv')"
   ]
  },
  {
   "cell_type": "code",
   "execution_count": 3,
   "metadata": {
    "execution": {
     "iopub.execute_input": "2021-04-05T11:31:22.412010Z",
     "iopub.status.busy": "2021-04-05T11:31:22.411344Z",
     "iopub.status.idle": "2021-04-05T11:31:22.452886Z",
     "shell.execute_reply": "2021-04-05T11:31:22.452190Z"
    },
    "papermill": {
     "duration": 0.064189,
     "end_time": "2021-04-05T11:31:22.453038",
     "exception": false,
     "start_time": "2021-04-05T11:31:22.388849",
     "status": "completed"
    },
    "tags": []
   },
   "outputs": [
    {
     "name": "stdout",
     "output_type": "stream",
     "text": [
      "<class 'pandas.core.frame.DataFrame'>\n",
      "RangeIndex: 10677 entries, 0 to 10676\n",
      "Data columns (total 11 columns):\n",
      " #   Column                                               Non-Null Count  Dtype \n",
      "---  ------                                               --------------  ----- \n",
      " 0   Unnamed: 0                                           10677 non-null  int64 \n",
      " 1   STATE/UT                                             10677 non-null  object\n",
      " 2   DISTRICT                                             10677 non-null  object\n",
      " 3   Year                                                 10677 non-null  int64 \n",
      " 4   Rape                                                 10677 non-null  int64 \n",
      " 5   Kidnapping and Abduction                             10677 non-null  int64 \n",
      " 6   Dowry Deaths                                         10677 non-null  int64 \n",
      " 7   Assault on women with intent to outrage her modesty  10677 non-null  int64 \n",
      " 8   Insult to modesty of Women                           10677 non-null  int64 \n",
      " 9   Cruelty by Husband or his Relatives                  10677 non-null  int64 \n",
      " 10  Importation of Girls                                 10677 non-null  int64 \n",
      "dtypes: int64(9), object(2)\n",
      "memory usage: 917.7+ KB\n",
      "<class 'pandas.core.frame.DataFrame'>\n",
      "RangeIndex: 853 entries, 0 to 852\n",
      "Data columns (total 19 columns):\n",
      " #   Column                                                     Non-Null Count  Dtype  \n",
      "---  ------                                                     --------------  -----  \n",
      " 0   State/ UT                                                  853 non-null    object \n",
      " 1   Sl. No.                                                    853 non-null    object \n",
      " 2   District/ Area                                             852 non-null    object \n",
      " 3   Year                                                       852 non-null    float64\n",
      " 4   Rape                                                       852 non-null    float64\n",
      " 5   Attempt to commit Rape                                     852 non-null    float64\n",
      " 6   Kidnapping & Abduction_Total                               852 non-null    float64\n",
      " 7   Dowry Deaths                                               852 non-null    float64\n",
      " 8   Assault on Women with intent to outrage her Modesty_Total  852 non-null    float64\n",
      " 9   Insult to the Modesty of Women_Total                       852 non-null    float64\n",
      " 10  Cruelty by Husband or his Relatives                        852 non-null    float64\n",
      " 11  Importation of Girls from Foreign Country                  852 non-null    float64\n",
      " 12  Abetment of Suicides of Women                              852 non-null    float64\n",
      " 13  Dowry Prohibition Act, 1961                                852 non-null    float64\n",
      " 14  Indecent Representation of Women (P) Act, 1986             852 non-null    float64\n",
      " 15  Protection of Children from Sexual Offences Act            852 non-null    float64\n",
      " 16  Protection of Women from Domestic Violence Act, 2005       852 non-null    float64\n",
      " 17  Immoral Traffic Prevention Act                             852 non-null    float64\n",
      " 18  Total Crimes against Women                                 852 non-null    float64\n",
      "dtypes: float64(16), object(3)\n",
      "memory usage: 126.7+ KB\n"
     ]
    }
   ],
   "source": [
    "df.info()\n",
    "df1.info()"
   ]
  },
  {
   "cell_type": "code",
   "execution_count": 4,
   "metadata": {
    "execution": {
     "iopub.execute_input": "2021-04-05T11:31:22.504763Z",
     "iopub.status.busy": "2021-04-05T11:31:22.504029Z",
     "iopub.status.idle": "2021-04-05T11:31:22.508092Z",
     "shell.execute_reply": "2021-04-05T11:31:22.507392Z"
    },
    "papermill": {
     "duration": 0.034548,
     "end_time": "2021-04-05T11:31:22.508240",
     "exception": false,
     "start_time": "2021-04-05T11:31:22.473692",
     "status": "completed"
    },
    "tags": []
   },
   "outputs": [
    {
     "name": "stdout",
     "output_type": "stream",
     "text": [
      "df: Index(['Unnamed: 0', 'STATE/UT', 'DISTRICT', 'Year', 'Rape',\n",
      "       'Kidnapping and Abduction', 'Dowry Deaths',\n",
      "       'Assault on women with intent to outrage her modesty',\n",
      "       'Insult to modesty of Women', 'Cruelty by Husband or his Relatives',\n",
      "       'Importation of Girls'],\n",
      "      dtype='object') \n",
      " df1: Index(['State/ UT', 'Sl. No.', 'District/ Area', 'Year', 'Rape',\n",
      "       'Attempt to commit Rape', 'Kidnapping & Abduction_Total',\n",
      "       'Dowry Deaths',\n",
      "       'Assault on Women with intent to outrage her Modesty_Total',\n",
      "       'Insult to the Modesty of Women_Total',\n",
      "       'Cruelty by Husband or his Relatives',\n",
      "       'Importation of Girls from Foreign Country',\n",
      "       'Abetment of Suicides of Women', 'Dowry Prohibition Act, 1961',\n",
      "       'Indecent Representation of Women (P) Act, 1986',\n",
      "       'Protection of Children from Sexual Offences Act',\n",
      "       'Protection of Women from Domestic Violence Act, 2005',\n",
      "       'Immoral Traffic Prevention Act', 'Total Crimes against Women'],\n",
      "      dtype='object')\n",
      "df: Index(['STATE/UT', 'DISTRICT', 'Year', 'Rape', 'Kidnapping and Abduction',\n",
      "       'Dowry Deaths', 'Assault on women with intent to outrage her modesty',\n",
      "       'Insult to modesty of Women', 'Cruelty by Husband or his Relatives',\n",
      "       'Importation of Girls'],\n",
      "      dtype='object') \n",
      "df1: Index(['STATE/UT', 'Sl. No.', 'DISTRICT', 'Year', 'Rape',\n",
      "       'Attempt to commit Rape', 'Kidnapping and Abduction', 'Dowry Deaths',\n",
      "       'Assault on women with intent to outrage her modesty',\n",
      "       'Insult to modesty of Women', 'Cruelty by Husband or his Relatives',\n",
      "       'Importation of Girls', 'Abetment of Suicides of Women',\n",
      "       'Dowry Prohibition Act, 1961',\n",
      "       'Indecent Representation of Women (P) Act, 1986',\n",
      "       'Protection of Children from Sexual Offences Act',\n",
      "       'Protection of Women from Domestic Violence Act, 2005',\n",
      "       'Immoral Traffic Prevention Act', 'Total Crimes against Women'],\n",
      "      dtype='object')\n"
     ]
    }
   ],
   "source": [
    "print('df:', df.columns, '\\n df1:',df1.columns)\n",
    "df1.rename(columns={'Kidnapping & Abduction_Total':'Kidnapping and Abduction',\n",
    "'Assault on Women with intent to outrage her Modesty_Total':'Assault on women with intent to outrage her modesty',\n",
    "'Insult to the Modesty of Women_Total':'Insult to modesty of Women',\n",
    "'Importation of Girls from Foreign Country':'Importation of Girls','State/ UT':'STATE/UT', 'District/ Area':'DISTRICT'}, inplace=True)\n",
    "\n",
    "if 'Unnamed: 0' in df:\n",
    "    df = df.drop('Unnamed: 0', axis=1)\n",
    "\n",
    "print('df:', df.columns, '\\ndf1:',df1.columns)\n"
   ]
  },
  {
   "cell_type": "code",
   "execution_count": 5,
   "metadata": {
    "execution": {
     "iopub.execute_input": "2021-04-05T11:31:22.557135Z",
     "iopub.status.busy": "2021-04-05T11:31:22.556171Z",
     "iopub.status.idle": "2021-04-05T11:31:22.560338Z",
     "shell.execute_reply": "2021-04-05T11:31:22.559684Z"
    },
    "papermill": {
     "duration": 0.032381,
     "end_time": "2021-04-05T11:31:22.560488",
     "exception": false,
     "start_time": "2021-04-05T11:31:22.528107",
     "status": "completed"
    },
    "tags": []
   },
   "outputs": [
    {
     "name": "stdout",
     "output_type": "stream",
     "text": [
      "Index(['STATE/UT', 'DISTRICT', 'Year', 'Rape', 'Kidnapping and Abduction',\n",
      "       'Dowry Deaths', 'Assault on women with intent to outrage her modesty',\n",
      "       'Insult to modesty of Women', 'Cruelty by Husband or his Relatives',\n",
      "       'Importation of Girls'],\n",
      "      dtype='object')\n"
     ]
    }
   ],
   "source": [
    "#removing the extra columns from 2015 dataset\n",
    "\n",
    "df1 = df1[[col for col in df.columns]]\n",
    "print(df1.columns)"
   ]
  },
  {
   "cell_type": "markdown",
   "metadata": {
    "papermill": {
     "duration": 0.020068,
     "end_time": "2021-04-05T11:31:22.601078",
     "exception": false,
     "start_time": "2021-04-05T11:31:22.581010",
     "status": "completed"
    },
    "tags": []
   },
   "source": [
    "## Initial DataFrame Exploration"
   ]
  },
  {
   "cell_type": "code",
   "execution_count": 6,
   "metadata": {
    "execution": {
     "iopub.execute_input": "2021-04-05T11:31:22.658325Z",
     "iopub.status.busy": "2021-04-05T11:31:22.657554Z",
     "iopub.status.idle": "2021-04-05T11:31:22.729885Z",
     "shell.execute_reply": "2021-04-05T11:31:22.729161Z"
    },
    "papermill": {
     "duration": 0.104505,
     "end_time": "2021-04-05T11:31:22.730038",
     "exception": false,
     "start_time": "2021-04-05T11:31:22.625533",
     "status": "completed"
    },
    "tags": []
   },
   "outputs": [
    {
     "name": "stdout",
     "output_type": "stream",
     "text": [
      "<class 'pandas.core.frame.DataFrame'>\n",
      "RangeIndex: 10677 entries, 0 to 10676\n",
      "Data columns (total 10 columns):\n",
      " #   Column                                               Non-Null Count  Dtype \n",
      "---  ------                                               --------------  ----- \n",
      " 0   STATE/UT                                             10677 non-null  object\n",
      " 1   DISTRICT                                             10677 non-null  object\n",
      " 2   Year                                                 10677 non-null  int64 \n",
      " 3   Rape                                                 10677 non-null  int64 \n",
      " 4   Kidnapping and Abduction                             10677 non-null  int64 \n",
      " 5   Dowry Deaths                                         10677 non-null  int64 \n",
      " 6   Assault on women with intent to outrage her modesty  10677 non-null  int64 \n",
      " 7   Insult to modesty of Women                           10677 non-null  int64 \n",
      " 8   Cruelty by Husband or his Relatives                  10677 non-null  int64 \n",
      " 9   Importation of Girls                                 10677 non-null  int64 \n",
      "dtypes: int64(8), object(2)\n",
      "memory usage: 834.3+ KB\n",
      "<class 'pandas.core.frame.DataFrame'>\n",
      "RangeIndex: 10677 entries, 0 to 10676\n",
      "Data columns (total 10 columns):\n",
      " #   Column                                               Non-Null Count  Dtype \n",
      "---  ------                                               --------------  ----- \n",
      " 0   STATE/UT                                             10677 non-null  object\n",
      " 1   DISTRICT                                             10677 non-null  object\n",
      " 2   Year                                                 10677 non-null  int64 \n",
      " 3   Rape                                                 10677 non-null  int64 \n",
      " 4   Kidnapping and Abduction                             10677 non-null  int64 \n",
      " 5   Dowry Deaths                                         10677 non-null  int64 \n",
      " 6   Assault on women with intent to outrage her modesty  10677 non-null  int64 \n",
      " 7   Insult to modesty of Women                           10677 non-null  int64 \n",
      " 8   Cruelty by Husband or his Relatives                  10677 non-null  int64 \n",
      " 9   Importation of Girls                                 10677 non-null  int64 \n",
      "dtypes: int64(8), object(2)\n",
      "memory usage: 834.3+ KB\n",
      "Null values in column:\n",
      "STATE/UT: 0\n",
      "DISTRICT: 0\n",
      "Year: 0\n",
      "Rape: 0\n",
      "Kidnapping and Abduction: 0\n",
      "Dowry Deaths: 0\n",
      "Assault on women with intent to outrage her modesty: 0\n",
      "Insult to modesty of Women: 0\n",
      "Cruelty by Husband or his Relatives: 0\n",
      "Importation of Girls: 0\n",
      "<class 'pandas.core.frame.DataFrame'>\n",
      "RangeIndex: 853 entries, 0 to 852\n",
      "Data columns (total 10 columns):\n",
      " #   Column                                               Non-Null Count  Dtype  \n",
      "---  ------                                               --------------  -----  \n",
      " 0   STATE/UT                                             853 non-null    object \n",
      " 1   DISTRICT                                             852 non-null    object \n",
      " 2   Year                                                 852 non-null    float64\n",
      " 3   Rape                                                 852 non-null    float64\n",
      " 4   Kidnapping and Abduction                             852 non-null    float64\n",
      " 5   Dowry Deaths                                         852 non-null    float64\n",
      " 6   Assault on women with intent to outrage her modesty  852 non-null    float64\n",
      " 7   Insult to modesty of Women                           852 non-null    float64\n",
      " 8   Cruelty by Husband or his Relatives                  852 non-null    float64\n",
      " 9   Importation of Girls                                 852 non-null    float64\n",
      "dtypes: float64(8), object(2)\n",
      "memory usage: 66.8+ KB\n",
      "Null values in column:\n",
      "STATE/UT: 0\n",
      "DISTRICT: 1\n",
      "Year: 1\n",
      "Rape: 1\n",
      "Kidnapping and Abduction: 1\n",
      "Dowry Deaths: 1\n",
      "Assault on women with intent to outrage her modesty: 1\n",
      "Insult to modesty of Women: 1\n",
      "Cruelty by Husband or his Relatives: 1\n",
      "Importation of Girls: 1\n"
     ]
    }
   ],
   "source": [
    "#last line only prints so have to comment out others and run cell to see each output\n",
    "\n",
    "df.info()\n",
    "df.head()\n",
    "\n",
    "df.tail()\n",
    "df.info()\n",
    "df.describe()\n",
    "\n",
    "print(\"Null values in column:\")\n",
    "for column in df.columns:\n",
    "    print(column + \": \" + str(df[column].isnull().sum()))\n",
    "\n",
    "df1.info()\n",
    "print(\"Null values in column:\")\n",
    "for column in df1.columns:\n",
    "    print(column + \": \" + str(df1[column].isnull().sum()))"
   ]
  },
  {
   "cell_type": "code",
   "execution_count": 7,
   "metadata": {
    "execution": {
     "iopub.execute_input": "2021-04-05T11:31:22.783798Z",
     "iopub.status.busy": "2021-04-05T11:31:22.779383Z",
     "iopub.status.idle": "2021-04-05T11:31:22.796439Z",
     "shell.execute_reply": "2021-04-05T11:31:22.797000Z"
    },
    "papermill": {
     "duration": 0.045138,
     "end_time": "2021-04-05T11:31:22.797187",
     "exception": false,
     "start_time": "2021-04-05T11:31:22.752049",
     "status": "completed"
    },
    "tags": []
   },
   "outputs": [
    {
     "name": "stdout",
     "output_type": "stream",
     "text": [
      "<class 'pandas.core.frame.DataFrame'>\n",
      "Int64Index: 11530 entries, 0 to 852\n",
      "Data columns (total 10 columns):\n",
      " #   Column                                               Non-Null Count  Dtype  \n",
      "---  ------                                               --------------  -----  \n",
      " 0   STATE/UT                                             11530 non-null  object \n",
      " 1   DISTRICT                                             11529 non-null  object \n",
      " 2   Year                                                 11529 non-null  float64\n",
      " 3   Rape                                                 11529 non-null  float64\n",
      " 4   Kidnapping and Abduction                             11529 non-null  float64\n",
      " 5   Dowry Deaths                                         11529 non-null  float64\n",
      " 6   Assault on women with intent to outrage her modesty  11529 non-null  float64\n",
      " 7   Insult to modesty of Women                           11529 non-null  float64\n",
      " 8   Cruelty by Husband or his Relatives                  11529 non-null  float64\n",
      " 9   Importation of Girls                                 11529 non-null  float64\n",
      "dtypes: float64(8), object(2)\n",
      "memory usage: 990.9+ KB\n"
     ]
    }
   ],
   "source": [
    "df = df.append(df1)\n",
    "df.info()"
   ]
  },
  {
   "cell_type": "code",
   "execution_count": 8,
   "metadata": {
    "execution": {
     "iopub.execute_input": "2021-04-05T11:31:22.854813Z",
     "iopub.status.busy": "2021-04-05T11:31:22.849754Z",
     "iopub.status.idle": "2021-04-05T11:31:22.992430Z",
     "shell.execute_reply": "2021-04-05T11:31:22.991469Z"
    },
    "papermill": {
     "duration": 0.173416,
     "end_time": "2021-04-05T11:31:22.992665",
     "exception": false,
     "start_time": "2021-04-05T11:31:22.819249",
     "status": "completed"
    },
    "tags": []
   },
   "outputs": [
    {
     "name": "stdout",
     "output_type": "stream",
     "text": [
      "['andhra pradesh' 'arunachal pradesh' 'assam' 'bihar' 'chhattisgarh' 'goa'\n",
      " 'gujarat' 'haryana' 'himachal pradesh' 'jammu & kashmir' 'jharkhand'\n",
      " 'karnataka' 'kerala' 'madhya pradesh' 'maharashtra' 'manipur' 'meghalaya'\n",
      " 'mizoram' 'nagaland' 'odisha' 'punjab' 'rajasthan' 'sikkim' 'tamil nadu'\n",
      " 'tripura' 'uttar pradesh' 'uttarakhand' 'west bengal' 'a&n islands'\n",
      " 'chandigarh' 'd&n haveli' 'delhi' 'lakshadweep' 'puducherry' 'telangana']\n"
     ]
    }
   ],
   "source": [
    "# 2001-2012 had capital state names and 2013,2014 had lowercase\n",
    "df['STATE/UT'] = df['STATE/UT'].apply(lambda x: x.lower())\n",
    "for year in df['Year'].unique():\n",
    "    if not (df[(df['STATE/UT']=='a&n islands') | (df['STATE/UT']=='a & n islands') & df['Year']==year].empty):\n",
    "        print('AHA')\n",
    "#combining 2 names for A&N islands, D&D haveli, delhi into 1\n",
    "df['STATE/UT'] = df['STATE/UT'].apply(lambda x: 'a&n islands' if x in ['a & n islands','a&n islands'] else x)\n",
    "df['STATE/UT'] = df['STATE/UT'].apply(lambda x: 'd&n haveli' if x in ['d & n haveli','d&n haveli','daman & diu'] else x)\n",
    "df['STATE/UT'] = df['STATE/UT'].apply(lambda x: 'delhi' if x in ['delhi','delhi ut'] else x)\n",
    "\n",
    "#2013,2014 had district total row named 'ZZ TOTAL', 'Total District(s)'. Changed to common name 'TOTAL'\n",
    "#df[(df['STATE/UT']=='andhra pradesh') & (df['Year']==2007)]['DISTRICT']\n",
    "df['DISTRICT'] = df['DISTRICT'].apply(lambda x: 'total' if x in ['ZZ TOTAL','Total District(s)','TOTAL'] else x)\n",
    "#check \n",
    "#df[(df['STATE/UT']=='andhra pradesh') & (df['Year']==2014)]['DISTRICT'] \n",
    "print(df['STATE/UT'].unique())\n"
   ]
  },
  {
   "cell_type": "code",
   "execution_count": 9,
   "metadata": {
    "execution": {
     "iopub.execute_input": "2021-04-05T11:31:23.045927Z",
     "iopub.status.busy": "2021-04-05T11:31:23.045215Z",
     "iopub.status.idle": "2021-04-05T11:31:23.071175Z",
     "shell.execute_reply": "2021-04-05T11:31:23.070488Z"
    },
    "papermill": {
     "duration": 0.055904,
     "end_time": "2021-04-05T11:31:23.071318",
     "exception": false,
     "start_time": "2021-04-05T11:31:23.015414",
     "status": "completed"
    },
    "tags": []
   },
   "outputs": [
    {
     "data": {
      "text/html": [
       "<div>\n",
       "<style scoped>\n",
       "    .dataframe tbody tr th:only-of-type {\n",
       "        vertical-align: middle;\n",
       "    }\n",
       "\n",
       "    .dataframe tbody tr th {\n",
       "        vertical-align: top;\n",
       "    }\n",
       "\n",
       "    .dataframe thead th {\n",
       "        text-align: right;\n",
       "    }\n",
       "</style>\n",
       "<table border=\"1\" class=\"dataframe\">\n",
       "  <thead>\n",
       "    <tr style=\"text-align: right;\">\n",
       "      <th></th>\n",
       "      <th>STATE/UT</th>\n",
       "      <th>DISTRICT</th>\n",
       "      <th>Year</th>\n",
       "      <th>Rape</th>\n",
       "      <th>Kidnapping and Abduction</th>\n",
       "      <th>Dowry Deaths</th>\n",
       "      <th>Assault on women with intent to outrage her modesty</th>\n",
       "      <th>Insult to modesty of Women</th>\n",
       "      <th>Cruelty by Husband or his Relatives</th>\n",
       "      <th>Importation of Girls</th>\n",
       "    </tr>\n",
       "  </thead>\n",
       "  <tbody>\n",
       "    <tr>\n",
       "      <th>0</th>\n",
       "      <td>andhra pradesh</td>\n",
       "      <td>ADILABAD</td>\n",
       "      <td>2001.0</td>\n",
       "      <td>50.0</td>\n",
       "      <td>30.0</td>\n",
       "      <td>16.0</td>\n",
       "      <td>149.0</td>\n",
       "      <td>34.0</td>\n",
       "      <td>175.0</td>\n",
       "      <td>0.0</td>\n",
       "    </tr>\n",
       "    <tr>\n",
       "      <th>1</th>\n",
       "      <td>andhra pradesh</td>\n",
       "      <td>ANANTAPUR</td>\n",
       "      <td>2001.0</td>\n",
       "      <td>23.0</td>\n",
       "      <td>30.0</td>\n",
       "      <td>7.0</td>\n",
       "      <td>118.0</td>\n",
       "      <td>24.0</td>\n",
       "      <td>154.0</td>\n",
       "      <td>0.0</td>\n",
       "    </tr>\n",
       "    <tr>\n",
       "      <th>2</th>\n",
       "      <td>andhra pradesh</td>\n",
       "      <td>CHITTOOR</td>\n",
       "      <td>2001.0</td>\n",
       "      <td>27.0</td>\n",
       "      <td>34.0</td>\n",
       "      <td>14.0</td>\n",
       "      <td>112.0</td>\n",
       "      <td>83.0</td>\n",
       "      <td>186.0</td>\n",
       "      <td>0.0</td>\n",
       "    </tr>\n",
       "    <tr>\n",
       "      <th>3</th>\n",
       "      <td>andhra pradesh</td>\n",
       "      <td>CUDDAPAH</td>\n",
       "      <td>2001.0</td>\n",
       "      <td>20.0</td>\n",
       "      <td>20.0</td>\n",
       "      <td>17.0</td>\n",
       "      <td>126.0</td>\n",
       "      <td>38.0</td>\n",
       "      <td>57.0</td>\n",
       "      <td>0.0</td>\n",
       "    </tr>\n",
       "    <tr>\n",
       "      <th>4</th>\n",
       "      <td>andhra pradesh</td>\n",
       "      <td>EAST GODAVARI</td>\n",
       "      <td>2001.0</td>\n",
       "      <td>23.0</td>\n",
       "      <td>26.0</td>\n",
       "      <td>12.0</td>\n",
       "      <td>109.0</td>\n",
       "      <td>58.0</td>\n",
       "      <td>247.0</td>\n",
       "      <td>0.0</td>\n",
       "    </tr>\n",
       "  </tbody>\n",
       "</table>\n",
       "</div>"
      ],
      "text/plain": [
       "         STATE/UT       DISTRICT    Year  Rape  Kidnapping and Abduction  \\\n",
       "0  andhra pradesh       ADILABAD  2001.0  50.0                      30.0   \n",
       "1  andhra pradesh      ANANTAPUR  2001.0  23.0                      30.0   \n",
       "2  andhra pradesh       CHITTOOR  2001.0  27.0                      34.0   \n",
       "3  andhra pradesh       CUDDAPAH  2001.0  20.0                      20.0   \n",
       "4  andhra pradesh  EAST GODAVARI  2001.0  23.0                      26.0   \n",
       "\n",
       "   Dowry Deaths  Assault on women with intent to outrage her modesty  \\\n",
       "0          16.0                                              149.0     \n",
       "1           7.0                                              118.0     \n",
       "2          14.0                                              112.0     \n",
       "3          17.0                                              126.0     \n",
       "4          12.0                                              109.0     \n",
       "\n",
       "   Insult to modesty of Women  Cruelty by Husband or his Relatives  \\\n",
       "0                        34.0                                175.0   \n",
       "1                        24.0                                154.0   \n",
       "2                        83.0                                186.0   \n",
       "3                        38.0                                 57.0   \n",
       "4                        58.0                                247.0   \n",
       "\n",
       "   Importation of Girls  \n",
       "0                   0.0  \n",
       "1                   0.0  \n",
       "2                   0.0  \n",
       "3                   0.0  \n",
       "4                   0.0  "
      ]
     },
     "execution_count": 9,
     "metadata": {},
     "output_type": "execute_result"
    }
   ],
   "source": [
    "df.head()\n"
   ]
  },
  {
   "cell_type": "code",
   "execution_count": 10,
   "metadata": {
    "execution": {
     "iopub.execute_input": "2021-04-05T11:31:23.133961Z",
     "iopub.status.busy": "2021-04-05T11:31:23.133026Z",
     "iopub.status.idle": "2021-04-05T11:31:23.136474Z",
     "shell.execute_reply": "2021-04-05T11:31:23.137211Z"
    },
    "papermill": {
     "duration": 0.042938,
     "end_time": "2021-04-05T11:31:23.137453",
     "exception": false,
     "start_time": "2021-04-05T11:31:23.094515",
     "status": "completed"
    },
    "tags": []
   },
   "outputs": [
    {
     "name": "stdout",
     "output_type": "stream",
     "text": [
      "34651.0\n"
     ]
    }
   ],
   "source": [
    "#df[df['DISTRICT']=='Total District(s)']\n",
    "#This will select 2015 ke records se total values alone. Ideally should rename this to total so it's consistent. Use the lambda x: stuff\n",
    "df['DISTRICT'] = df['DISTRICT'].apply(lambda x: 'total' if x in ['Total District(s)'] else x)\n",
    "\n",
    "# get the 'total' rows\n",
    "df_state_totals_per_year = df[df['DISTRICT']=='total'] \n",
    "#print(df[df['Year']==2001][['STATE/UT', 'Rape']])\n",
    "print(df_state_totals_per_year[df_state_totals_per_year['Year']==2015][ 'Rape'].sum())\n",
    "# When you do df[['random', 'stuff']] you are selecting 2 columns callwed random and stuff.\n",
    "# want to hold data per year So lets select 'total' rows first.\n"
   ]
  },
  {
   "cell_type": "code",
   "execution_count": 11,
   "metadata": {
    "execution": {
     "iopub.execute_input": "2021-04-05T11:31:23.198945Z",
     "iopub.status.busy": "2021-04-05T11:31:23.196181Z",
     "iopub.status.idle": "2021-04-05T11:31:23.202418Z",
     "shell.execute_reply": "2021-04-05T11:31:23.201781Z"
    },
    "papermill": {
     "duration": 0.037964,
     "end_time": "2021-04-05T11:31:23.202587",
     "exception": false,
     "start_time": "2021-04-05T11:31:23.164623",
     "status": "completed"
    },
    "tags": []
   },
   "outputs": [],
   "source": [
    "#df.columns\n",
    "#'STATE/UT', 'DISTRICT', 'Year', 'Rape', 'Kidnapping and Abduction','Dowry Deaths', 'Assault on women with intent to outrage her modesty','Insult to modesty of Women', 'Cruelty by Husband or his Relatives','Importation of Girls'\n",
    "df_norm_crimes = pd.melt(df_state_totals_per_year, id_vars=['STATE/UT', 'Year'], value_vars=['Rape', 'Kidnapping and Abduction','Dowry Deaths', 'Assault on women with intent to outrage her modesty','Insult to modesty of Women', 'Cruelty by Husband or his Relatives','Importation of Girls'])"
   ]
  },
  {
   "cell_type": "code",
   "execution_count": 12,
   "metadata": {
    "execution": {
     "iopub.execute_input": "2021-04-05T11:31:23.263895Z",
     "iopub.status.busy": "2021-04-05T11:31:23.263193Z",
     "iopub.status.idle": "2021-04-05T11:31:23.268124Z",
     "shell.execute_reply": "2021-04-05T11:31:23.267477Z"
    },
    "papermill": {
     "duration": 0.041222,
     "end_time": "2021-04-05T11:31:23.268266",
     "exception": false,
     "start_time": "2021-04-05T11:31:23.227044",
     "status": "completed"
    },
    "tags": []
   },
   "outputs": [
    {
     "data": {
      "text/html": [
       "<div>\n",
       "<style scoped>\n",
       "    .dataframe tbody tr th:only-of-type {\n",
       "        vertical-align: middle;\n",
       "    }\n",
       "\n",
       "    .dataframe tbody tr th {\n",
       "        vertical-align: top;\n",
       "    }\n",
       "\n",
       "    .dataframe thead th {\n",
       "        text-align: right;\n",
       "    }\n",
       "</style>\n",
       "<table border=\"1\" class=\"dataframe\">\n",
       "  <thead>\n",
       "    <tr style=\"text-align: right;\">\n",
       "      <th></th>\n",
       "      <th>STATE/UT</th>\n",
       "      <th>Year</th>\n",
       "      <th>variable</th>\n",
       "      <th>value</th>\n",
       "    </tr>\n",
       "  </thead>\n",
       "  <tbody>\n",
       "    <tr>\n",
       "      <th>0</th>\n",
       "      <td>andhra pradesh</td>\n",
       "      <td>2001.0</td>\n",
       "      <td>Rape</td>\n",
       "      <td>871.0</td>\n",
       "    </tr>\n",
       "    <tr>\n",
       "      <th>1</th>\n",
       "      <td>arunachal pradesh</td>\n",
       "      <td>2001.0</td>\n",
       "      <td>Rape</td>\n",
       "      <td>33.0</td>\n",
       "    </tr>\n",
       "    <tr>\n",
       "      <th>2</th>\n",
       "      <td>assam</td>\n",
       "      <td>2001.0</td>\n",
       "      <td>Rape</td>\n",
       "      <td>817.0</td>\n",
       "    </tr>\n",
       "    <tr>\n",
       "      <th>3</th>\n",
       "      <td>bihar</td>\n",
       "      <td>2001.0</td>\n",
       "      <td>Rape</td>\n",
       "      <td>888.0</td>\n",
       "    </tr>\n",
       "    <tr>\n",
       "      <th>4</th>\n",
       "      <td>chhattisgarh</td>\n",
       "      <td>2001.0</td>\n",
       "      <td>Rape</td>\n",
       "      <td>959.0</td>\n",
       "    </tr>\n",
       "  </tbody>\n",
       "</table>\n",
       "</div>"
      ],
      "text/plain": [
       "            STATE/UT    Year variable  value\n",
       "0     andhra pradesh  2001.0     Rape  871.0\n",
       "1  arunachal pradesh  2001.0     Rape   33.0\n",
       "2              assam  2001.0     Rape  817.0\n",
       "3              bihar  2001.0     Rape  888.0\n",
       "4       chhattisgarh  2001.0     Rape  959.0"
      ]
     },
     "execution_count": 12,
     "metadata": {},
     "output_type": "execute_result"
    }
   ],
   "source": [
    "df_norm_crimes.head()"
   ]
  },
  {
   "cell_type": "code",
   "execution_count": 13,
   "metadata": {
    "execution": {
     "iopub.execute_input": "2021-04-05T11:31:23.326205Z",
     "iopub.status.busy": "2021-04-05T11:31:23.325514Z",
     "iopub.status.idle": "2021-04-05T11:31:23.330610Z",
     "shell.execute_reply": "2021-04-05T11:31:23.329944Z"
    },
    "papermill": {
     "duration": 0.037936,
     "end_time": "2021-04-05T11:31:23.330761",
     "exception": false,
     "start_time": "2021-04-05T11:31:23.292825",
     "status": "completed"
    },
    "tags": []
   },
   "outputs": [
    {
     "data": {
      "text/plain": [
       "34651.0"
      ]
     },
     "execution_count": 13,
     "metadata": {},
     "output_type": "execute_result"
    }
   ],
   "source": [
    "df_norm_crimes[(df_norm_crimes['variable']=='Rape') & (df_norm_crimes['Year']==2015.0)]['value'].sum()"
   ]
  },
  {
   "cell_type": "code",
   "execution_count": 14,
   "metadata": {
    "execution": {
     "iopub.execute_input": "2021-04-05T11:31:23.398067Z",
     "iopub.status.busy": "2021-04-05T11:31:23.392912Z",
     "iopub.status.idle": "2021-04-05T11:31:23.469938Z",
     "shell.execute_reply": "2021-04-05T11:31:23.468573Z"
    },
    "papermill": {
     "duration": 0.114625,
     "end_time": "2021-04-05T11:31:23.470097",
     "exception": false,
     "start_time": "2021-04-05T11:31:23.355472",
     "status": "completed"
    },
    "tags": []
   },
   "outputs": [],
   "source": [
    "chart = alt.Chart(df_norm_crimes).mark_bar().encode(\n",
    "    x=alt.X('Year:O', title='Year'),\n",
    "    y=alt.Y('sum(value):Q', title=\"Total number of crimes\"),\n",
    "    color=alt.Color('variable:N', title='Crimes'),\n",
    "    tooltip='sum(value):Q'\n",
    ").properties(height=600, width=600)\n",
    "chart.save(\"Crimes.html\")\n",
    "#chart"
   ]
  },
  {
   "cell_type": "markdown",
   "metadata": {
    "papermill": {
     "duration": 0.024575,
     "end_time": "2021-04-05T11:31:23.519449",
     "exception": false,
     "start_time": "2021-04-05T11:31:23.494874",
     "status": "completed"
    },
    "tags": []
   },
   "source": [
    "# Conclusion\n",
    "Sum of all crimes in each year while showing what part of the total (coloured differently) is because of that particular crime.\n",
    "Overall the total number of crimes have risen slowly and then very fast over the years."
   ]
  },
  {
   "cell_type": "code",
   "execution_count": 15,
   "metadata": {
    "execution": {
     "iopub.execute_input": "2021-04-05T11:31:23.580803Z",
     "iopub.status.busy": "2021-04-05T11:31:23.580128Z",
     "iopub.status.idle": "2021-04-05T11:31:23.584461Z",
     "shell.execute_reply": "2021-04-05T11:31:23.583894Z"
    },
    "papermill": {
     "duration": 0.040406,
     "end_time": "2021-04-05T11:31:23.584640",
     "exception": false,
     "start_time": "2021-04-05T11:31:23.544234",
     "status": "completed"
    },
    "tags": []
   },
   "outputs": [
    {
     "name": "stdout",
     "output_type": "stream",
     "text": [
      "               STATE/UT    Year              variable  value\n",
      "0        andhra pradesh  2001.0                  Rape  871.0\n",
      "1     arunachal pradesh  2001.0                  Rape   33.0\n",
      "2                 assam  2001.0                  Rape  817.0\n",
      "3                 bihar  2001.0                  Rape  888.0\n",
      "4          chhattisgarh  2001.0                  Rape  959.0\n",
      "...                 ...     ...                   ...    ...\n",
      "3119         chandigarh  2001.0  Importation of Girls    0.0\n",
      "3120         d&n haveli  2001.0  Importation of Girls    0.0\n",
      "3121         d&n haveli  2001.0  Importation of Girls    0.0\n",
      "3122        lakshadweep  2001.0  Importation of Girls    0.0\n",
      "3123         puducherry  2001.0  Importation of Girls    0.0\n",
      "\n",
      "[238 rows x 4 columns]\n"
     ]
    }
   ],
   "source": [
    "print(df_norm_crimes[df_norm_crimes['Year']==2001])"
   ]
  },
  {
   "cell_type": "code",
   "execution_count": 16,
   "metadata": {
    "execution": {
     "iopub.execute_input": "2021-04-05T11:31:23.645689Z",
     "iopub.status.busy": "2021-04-05T11:31:23.644098Z",
     "iopub.status.idle": "2021-04-05T11:31:23.650561Z",
     "shell.execute_reply": "2021-04-05T11:31:23.649920Z"
    },
    "papermill": {
     "duration": 0.0406,
     "end_time": "2021-04-05T11:31:23.650728",
     "exception": false,
     "start_time": "2021-04-05T11:31:23.610128",
     "status": "completed"
    },
    "tags": []
   },
   "outputs": [
    {
     "data": {
      "text/plain": [
       "array(['Rape', 'Kidnapping', 'Dowry Deaths', 'Assault',\n",
       "       'Insult to modesty', 'Cruelty by Family', 'Importation'],\n",
       "      dtype=object)"
      ]
     },
     "execution_count": 16,
     "metadata": {},
     "output_type": "execute_result"
    }
   ],
   "source": [
    "#shortening crime names for better visibility in graphs\n",
    "df_norm_crimes['variable'].unique()\n",
    "new_var = {'Rape':'Rape',\n",
    "           'Kidnapping and Abduction':'Kidnapping',\n",
    "           'Dowry Deaths':'Dowry Deaths',\n",
    "           'Assault on women with intent to outrage her modesty':'Assault',\n",
    "           'Insult to modesty of Women':'Insult to modesty',\n",
    "           'Cruelty by Husband or his Relatives':'Cruelty by Family',\n",
    "           'Importation of Girls':'Importation'}\n",
    "df_norm_crimes['variable'] = df_norm_crimes['variable'].apply(lambda x: new_var[x] if x in new_var else x)\n",
    "df_norm_crimes['variable'].unique()"
   ]
  },
  {
   "cell_type": "code",
   "execution_count": 17,
   "metadata": {
    "execution": {
     "iopub.execute_input": "2021-04-05T11:31:23.706731Z",
     "iopub.status.busy": "2021-04-05T11:31:23.706024Z",
     "iopub.status.idle": "2021-04-05T11:31:23.772507Z",
     "shell.execute_reply": "2021-04-05T11:31:23.773065Z"
    },
    "papermill": {
     "duration": 0.09591,
     "end_time": "2021-04-05T11:31:23.773247",
     "exception": false,
     "start_time": "2021-04-05T11:31:23.677337",
     "status": "completed"
    },
    "tags": []
   },
   "outputs": [],
   "source": [
    "\n",
    "chart = alt.Chart(df_norm_crimes).mark_boxplot().encode(\n",
    "    x=alt.X('variable:N', title=\"Crimes\"),\n",
    "    y=alt.Y('sum(value):Q', title=\"Number of crimes\"),\n",
    "    color=alt.Color('variable:N', title='Crimes'),\n",
    "    facet=alt.Facet('Year:O', columns=7)\n",
    ").properties(width=300, height=300)\n",
    "chart.save(\"Yearwise_crimes.html\")"
   ]
  },
  {
   "cell_type": "code",
   "execution_count": 18,
   "metadata": {
    "execution": {
     "iopub.execute_input": "2021-04-05T11:31:23.829921Z",
     "iopub.status.busy": "2021-04-05T11:31:23.828965Z",
     "iopub.status.idle": "2021-04-05T11:31:23.846732Z",
     "shell.execute_reply": "2021-04-05T11:31:23.847626Z"
    },
    "papermill": {
     "duration": 0.048119,
     "end_time": "2021-04-05T11:31:23.847928",
     "exception": false,
     "start_time": "2021-04-05T11:31:23.799809",
     "status": "completed"
    },
    "tags": []
   },
   "outputs": [
    {
     "name": "stdout",
     "output_type": "stream",
     "text": [
      "2010.0\n",
      "2011.0\n",
      "2012.0\n",
      "[21665.0, 23634.0, 24217.0]\n",
      "[33707.0, 36735.0, 34651.0]\n"
     ]
    }
   ],
   "source": [
    "#splitting according to Nirbhaya Act - 2010-12 and 2013-15\n",
    "df_bc13 = df_norm_crimes[(df_norm_crimes['Year'].isin([2010,2011,2012])) & (df_norm_crimes['variable']=='Rape')]\n",
    "df_ad13 = df_norm_crimes[(df_norm_crimes['Year'].isin([2013,2014,2015])) & (df_norm_crimes['variable']=='Rape')]\n",
    "ad_13 = []\n",
    "bc_13 = []\n",
    "    \n",
    "for year in df_bc13['Year'].unique():\n",
    "    print(year)\n",
    "    bc_13.append(df_bc13[df_bc13['Year']==year]['value'].sum())\n",
    "for year in df_ad13['Year'].unique():\n",
    "    ad_13.append(df_ad13[df_ad13['Year']==year]['value'].sum())\n",
    "    \n",
    "print(bc_13)\n",
    "print(ad_13)"
   ]
  },
  {
   "cell_type": "code",
   "execution_count": 19,
   "metadata": {
    "execution": {
     "iopub.execute_input": "2021-04-05T11:31:23.909610Z",
     "iopub.status.busy": "2021-04-05T11:31:23.908763Z",
     "iopub.status.idle": "2021-04-05T11:31:23.911557Z",
     "shell.execute_reply": "2021-04-05T11:31:23.912054Z"
    },
    "papermill": {
     "duration": 0.03629,
     "end_time": "2021-04-05T11:31:23.912242",
     "exception": false,
     "start_time": "2021-04-05T11:31:23.875952",
     "status": "completed"
    },
    "tags": []
   },
   "outputs": [],
   "source": [
    "result = ttest_ind(bc_13, ad_13)"
   ]
  },
  {
   "cell_type": "code",
   "execution_count": 20,
   "metadata": {
    "execution": {
     "iopub.execute_input": "2021-04-05T11:31:23.977118Z",
     "iopub.status.busy": "2021-04-05T11:31:23.976158Z",
     "iopub.status.idle": "2021-04-05T11:31:23.981813Z",
     "shell.execute_reply": "2021-04-05T11:31:23.982293Z"
    },
    "papermill": {
     "duration": 0.042259,
     "end_time": "2021-04-05T11:31:23.982466",
     "exception": false,
     "start_time": "2021-04-05T11:31:23.940207",
     "status": "completed"
    },
    "tags": []
   },
   "outputs": [
    {
     "data": {
      "text/plain": [
       "Ttest_indResult(statistic=-10.036128581467946, pvalue=0.0005542104071428713)"
      ]
     },
     "execution_count": 20,
     "metadata": {},
     "output_type": "execute_result"
    }
   ],
   "source": [
    "result\n",
    "#If we observe a large p-value, for example larger than 0.05 or 0.1, \n",
    "#then we cannot reject the null hypothesis of identical average scores. \n",
    "#If the p-value is smaller than the threshold, e.g. 1%, 5% or 10%, then we reject the null hypothesis of equal averages.\n",
    "\n",
    "#2001,2002,2003,2004,2005,2006,2007,2008,2009, included in bc_13 gives\n",
    "#Ttest_indResult(statistic=-8.539030164242636, pvalue=1.0874193136267394e-06)\n",
    "#p-value is even lower"
   ]
  },
  {
   "cell_type": "code",
   "execution_count": 21,
   "metadata": {
    "execution": {
     "iopub.execute_input": "2021-04-05T11:31:24.042195Z",
     "iopub.status.busy": "2021-04-05T11:31:24.041446Z",
     "iopub.status.idle": "2021-04-05T11:31:24.045632Z",
     "shell.execute_reply": "2021-04-05T11:31:24.046097Z"
    },
    "papermill": {
     "duration": 0.036464,
     "end_time": "2021-04-05T11:31:24.046278",
     "exception": false,
     "start_time": "2021-04-05T11:31:24.009814",
     "status": "completed"
    },
    "tags": []
   },
   "outputs": [
    {
     "data": {
      "text/plain": [
       "107"
      ]
     },
     "execution_count": 21,
     "metadata": {},
     "output_type": "execute_result"
    }
   ],
   "source": [
    "len(df_ad13)\n"
   ]
  },
  {
   "cell_type": "markdown",
   "metadata": {
    "papermill": {
     "duration": 0.027157,
     "end_time": "2021-04-05T11:31:24.101620",
     "exception": false,
     "start_time": "2021-04-05T11:31:24.074463",
     "status": "completed"
    },
    "tags": []
   },
   "source": [
    "# Conclusion\n",
    "Number of crimes of all categories are increasing from 2001 to 2014\n",
    "Highest number of crimes against women is because of cruelty by the husband or relatives.\n",
    "Close to this is Assault with an intention to outrage modesty of the woman.\n",
    "Kidnapping and rape follow.\n",
    "\n",
    "Cruelty by Family has the highest number of outliers throughout the years.\n",
    "Next, a check on the states that are causing the outliers in Cruelty by Family category."
   ]
  },
  {
   "cell_type": "code",
   "execution_count": 22,
   "metadata": {
    "execution": {
     "iopub.execute_input": "2021-04-05T11:31:24.162070Z",
     "iopub.status.busy": "2021-04-05T11:31:24.161077Z",
     "iopub.status.idle": "2021-04-05T11:31:24.182314Z",
     "shell.execute_reply": "2021-04-05T11:31:24.181681Z"
    },
    "papermill": {
     "duration": 0.052307,
     "end_time": "2021-04-05T11:31:24.182456",
     "exception": false,
     "start_time": "2021-04-05T11:31:24.130149",
     "status": "completed"
    },
    "tags": []
   },
   "outputs": [
    {
     "data": {
      "text/html": [
       "<div>\n",
       "<style scoped>\n",
       "    .dataframe tbody tr th:only-of-type {\n",
       "        vertical-align: middle;\n",
       "    }\n",
       "\n",
       "    .dataframe tbody tr th {\n",
       "        vertical-align: top;\n",
       "    }\n",
       "\n",
       "    .dataframe thead th {\n",
       "        text-align: right;\n",
       "    }\n",
       "</style>\n",
       "<table border=\"1\" class=\"dataframe\">\n",
       "  <thead>\n",
       "    <tr style=\"text-align: right;\">\n",
       "      <th></th>\n",
       "      <th>STATE/UT</th>\n",
       "      <th>Year</th>\n",
       "      <th>variable</th>\n",
       "      <th>value</th>\n",
       "    </tr>\n",
       "  </thead>\n",
       "  <tbody>\n",
       "    <tr>\n",
       "      <th>2575</th>\n",
       "      <td>andhra pradesh</td>\n",
       "      <td>2001.0</td>\n",
       "      <td>Cruelty by Family</td>\n",
       "      <td>5791.0</td>\n",
       "    </tr>\n",
       "    <tr>\n",
       "      <th>2576</th>\n",
       "      <td>arunachal pradesh</td>\n",
       "      <td>2001.0</td>\n",
       "      <td>Cruelty by Family</td>\n",
       "      <td>11.0</td>\n",
       "    </tr>\n",
       "    <tr>\n",
       "      <th>2577</th>\n",
       "      <td>assam</td>\n",
       "      <td>2001.0</td>\n",
       "      <td>Cruelty by Family</td>\n",
       "      <td>1248.0</td>\n",
       "    </tr>\n",
       "    <tr>\n",
       "      <th>2578</th>\n",
       "      <td>bihar</td>\n",
       "      <td>2001.0</td>\n",
       "      <td>Cruelty by Family</td>\n",
       "      <td>1558.0</td>\n",
       "    </tr>\n",
       "    <tr>\n",
       "      <th>2579</th>\n",
       "      <td>chhattisgarh</td>\n",
       "      <td>2001.0</td>\n",
       "      <td>Cruelty by Family</td>\n",
       "      <td>840.0</td>\n",
       "    </tr>\n",
       "    <tr>\n",
       "      <th>...</th>\n",
       "      <td>...</td>\n",
       "      <td>...</td>\n",
       "      <td>...</td>\n",
       "      <td>...</td>\n",
       "    </tr>\n",
       "    <tr>\n",
       "      <th>3085</th>\n",
       "      <td>d&amp;n haveli</td>\n",
       "      <td>2015.0</td>\n",
       "      <td>Cruelty by Family</td>\n",
       "      <td>2.0</td>\n",
       "    </tr>\n",
       "    <tr>\n",
       "      <th>3086</th>\n",
       "      <td>d&amp;n haveli</td>\n",
       "      <td>2015.0</td>\n",
       "      <td>Cruelty by Family</td>\n",
       "      <td>3.0</td>\n",
       "    </tr>\n",
       "    <tr>\n",
       "      <th>3087</th>\n",
       "      <td>delhi</td>\n",
       "      <td>2015.0</td>\n",
       "      <td>Cruelty by Family</td>\n",
       "      <td>3521.0</td>\n",
       "    </tr>\n",
       "    <tr>\n",
       "      <th>3088</th>\n",
       "      <td>lakshadweep</td>\n",
       "      <td>2015.0</td>\n",
       "      <td>Cruelty by Family</td>\n",
       "      <td>2.0</td>\n",
       "    </tr>\n",
       "    <tr>\n",
       "      <th>3089</th>\n",
       "      <td>puducherry</td>\n",
       "      <td>2015.0</td>\n",
       "      <td>Cruelty by Family</td>\n",
       "      <td>4.0</td>\n",
       "    </tr>\n",
       "  </tbody>\n",
       "</table>\n",
       "<p>515 rows × 4 columns</p>\n",
       "</div>"
      ],
      "text/plain": [
       "               STATE/UT    Year           variable   value\n",
       "2575     andhra pradesh  2001.0  Cruelty by Family  5791.0\n",
       "2576  arunachal pradesh  2001.0  Cruelty by Family    11.0\n",
       "2577              assam  2001.0  Cruelty by Family  1248.0\n",
       "2578              bihar  2001.0  Cruelty by Family  1558.0\n",
       "2579       chhattisgarh  2001.0  Cruelty by Family   840.0\n",
       "...                 ...     ...                ...     ...\n",
       "3085         d&n haveli  2015.0  Cruelty by Family     2.0\n",
       "3086         d&n haveli  2015.0  Cruelty by Family     3.0\n",
       "3087              delhi  2015.0  Cruelty by Family  3521.0\n",
       "3088        lakshadweep  2015.0  Cruelty by Family     2.0\n",
       "3089         puducherry  2015.0  Cruelty by Family     4.0\n",
       "\n",
       "[515 rows x 4 columns]"
      ]
     },
     "execution_count": 22,
     "metadata": {},
     "output_type": "execute_result"
    }
   ],
   "source": [
    "df_cruelty = df_norm_crimes[df_norm_crimes['variable']=='Cruelty by Family']\n",
    "df_cruelty"
   ]
  },
  {
   "cell_type": "code",
   "execution_count": 23,
   "metadata": {
    "execution": {
     "iopub.execute_input": "2021-04-05T11:31:24.263010Z",
     "iopub.status.busy": "2021-04-05T11:31:24.257844Z",
     "iopub.status.idle": "2021-04-05T11:31:24.344403Z",
     "shell.execute_reply": "2021-04-05T11:31:24.343764Z"
    },
    "papermill": {
     "duration": 0.133912,
     "end_time": "2021-04-05T11:31:24.344579",
     "exception": false,
     "start_time": "2021-04-05T11:31:24.210667",
     "status": "completed"
    },
    "tags": []
   },
   "outputs": [],
   "source": [
    "# Create a selection that chooses the nearest point & selects based on x-value\n",
    "nearest = alt.selection(type='single', nearest=True, on='mouseover',\n",
    "                        fields=['STATE/UT'], empty='none')\n",
    "\n",
    "# The basic line\n",
    "line = alt.Chart(df_cruelty).mark_line(interpolate='monotone').encode(\n",
    "    x='STATE/UT:N',\n",
    "    y='value:Q',\n",
    "    color='Year:O'\n",
    ")\n",
    "\n",
    "# Transparent selectors across the chart. This is what tells us\n",
    "# the x-value of the cursor\n",
    "selectors = alt.Chart(df_cruelty).mark_point().encode(\n",
    "    x='STATE/UT:N',\n",
    "    opacity=alt.value(0),\n",
    ").add_selection(\n",
    "    nearest\n",
    ")\n",
    "\n",
    "# Draw points on the line, and highlight based on selection\n",
    "points = line.mark_point().encode(\n",
    "    opacity=alt.condition(nearest, alt.value(1), alt.value(0))\n",
    ")\n",
    "\n",
    "# Draw text labels near the points, and highlight based on selection\n",
    "text = line.mark_text(align='left', dx=10, dy=-10).encode(\n",
    "    text=alt.condition(nearest, 'value:Q', alt.value(' '))\n",
    ")\n",
    "\n",
    "# Draw a rule at the location of the selection\n",
    "rules = alt.Chart(df_cruelty).mark_rule(color='gray').encode(\n",
    "    x='STATE/UT:N',\n",
    ").transform_filter(\n",
    "    nearest\n",
    ")\n",
    "\n",
    "# Put the five layers into a chart and bind the data\n",
    "chart = alt.layer(\n",
    "    line, selectors, points, rules, text\n",
    ").properties(\n",
    "    width=1000, height=1000\n",
    ")\n",
    "chart.save(\"Statewise_crimes.html\")\n",
    "    "
   ]
  },
  {
   "cell_type": "markdown",
   "metadata": {
    "papermill": {
     "duration": 0.028225,
     "end_time": "2021-04-05T11:31:24.402322",
     "exception": false,
     "start_time": "2021-04-05T11:31:24.374097",
     "status": "completed"
    },
    "tags": []
   },
   "source": [
    "# Conclusion\n",
    "West Bengal, Rajasthan and Andhra Pradesh have the highest values for most of the years in the range given"
   ]
  },
  {
   "cell_type": "code",
   "execution_count": 24,
   "metadata": {
    "execution": {
     "iopub.execute_input": "2021-04-05T11:31:24.468280Z",
     "iopub.status.busy": "2021-04-05T11:31:24.465699Z",
     "iopub.status.idle": "2021-04-05T11:31:24.472775Z",
     "shell.execute_reply": "2021-04-05T11:31:24.472139Z"
    },
    "papermill": {
     "duration": 0.042325,
     "end_time": "2021-04-05T11:31:24.472920",
     "exception": false,
     "start_time": "2021-04-05T11:31:24.430595",
     "status": "completed"
    },
    "tags": []
   },
   "outputs": [
    {
     "data": {
      "text/plain": [
       "STATE/UT          west bengal\n",
       "Year                   2015.0\n",
       "variable    Cruelty by Family\n",
       "value                 23278.0\n",
       "dtype: object"
      ]
     },
     "execution_count": 24,
     "metadata": {},
     "output_type": "execute_result"
    }
   ],
   "source": [
    "#to check if the values shown on the chart are correct\n",
    "df_cruelty[df_cruelty['STATE/UT']=='west bengal'].max()"
   ]
  },
  {
   "cell_type": "code",
   "execution_count": null,
   "metadata": {
    "papermill": {
     "duration": 0.028498,
     "end_time": "2021-04-05T11:31:24.530116",
     "exception": false,
     "start_time": "2021-04-05T11:31:24.501618",
     "status": "completed"
    },
    "tags": []
   },
   "outputs": [],
   "source": []
  }
 ],
 "metadata": {
  "kernelspec": {
   "display_name": "Python 3",
   "language": "python",
   "name": "python3"
  },
  "language_info": {
   "codemirror_mode": {
    "name": "ipython",
    "version": 3
   },
   "file_extension": ".py",
   "mimetype": "text/x-python",
   "name": "python",
   "nbconvert_exporter": "python",
   "pygments_lexer": "ipython3",
   "version": "3.7.9"
  },
  "papermill": {
   "default_parameters": {},
   "duration": 38.339654,
   "end_time": "2021-04-05T11:31:25.269265",
   "environment_variables": {},
   "exception": null,
   "input_path": "__notebook__.ipynb",
   "output_path": "__notebook__.ipynb",
   "parameters": {},
   "start_time": "2021-04-05T11:30:46.929611",
   "version": "2.2.2"
  }
 },
 "nbformat": 4,
 "nbformat_minor": 4
}
